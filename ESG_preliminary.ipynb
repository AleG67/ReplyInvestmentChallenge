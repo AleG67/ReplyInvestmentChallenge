{
 "metadata": {
  "language_info": {
   "codemirror_mode": {
    "name": "ipython",
    "version": 3
   },
   "file_extension": ".py",
   "mimetype": "text/x-python",
   "name": "python",
   "nbconvert_exporter": "python",
   "pygments_lexer": "ipython3",
   "version": "3.7.4-final"
  },
  "orig_nbformat": 2,
  "kernelspec": {
   "name": "python3",
   "display_name": "Python 3.7.4 64-bit ('base': conda)",
   "metadata": {
    "interpreter": {
     "hash": "b967349b3912e102e8fe4a0a87077622317d4967e282400b4bea360c4dc3b23d"
    }
   }
  }
 },
 "nbformat": 4,
 "nbformat_minor": 2,
 "cells": [
  {
   "cell_type": "code",
   "execution_count": 1,
   "metadata": {},
   "outputs": [],
   "source": [
    "import numpy as np\n",
    "import pandas as pd\n",
    "import matplotlib.pyplot as plt\n",
    "import pandas_datareader as web\n",
    "import math \n",
    "import seaborn as sns\n",
    "sns.set()"
   ]
  },
  {
   "cell_type": "code",
   "execution_count": 3,
   "metadata": {},
   "outputs": [],
   "source": [
    "esg_ticks = pd.read_excel(\"ESG.xlsx\")\n",
    "esg_ticks = np.array(esg_ticks[\"Symbol\"])"
   ]
  },
  {
   "cell_type": "code",
   "execution_count": 4,
   "metadata": {},
   "outputs": [],
   "source": [
    "# LONG TO EXECUTE, STORED RESULT MANUALLY\n",
    "\n",
    "########### FIND TICKERS FOR WHICH THERE ARE NO DATA IN YAHOO FINANCE\n",
    "def find_ticker_without_data(all_tickers):\n",
    "    df = web.DataReader(all_tickers, \"yahoo\", \"2021-03-06\", \"2021-03-11\")[\"Adj Close\"]\n",
    "    to_drop = []\n",
    "    for i in range(len(esg)):                     #loop through each column\n",
    "        if math.isnan(df.iloc[0, i]) == True:     #check if first value of each column is true\n",
    "            to_drop.append(df.iloc[:, i].name)    #append name of stock to eliminate\n",
    "    return to_drop \n",
    "##### I could have just did the oppsite (append tickers for which data was not NaN) to get directly the tickers to keep, but I thought about it after I already did this procedure :)\n",
    "\n",
    "########### FIND LIST OF TICKERS TO KEEP (not needed if I did the opposite)\n",
    "def common_tickers(list1, list2): \n",
    "    needed_tickers = []\n",
    "    check = False\n",
    "    for x in list1:           # all tickers\n",
    "        for y in list2:       # tickers to drop\n",
    "            if x == y:        # if the ticker in all tickers is equal to at least one in the tickers to drop change check to True and stop loop\n",
    "                check = True  #it means that the ticker is in the list of tickers to drop\n",
    "                break\n",
    "        if check == False:     \n",
    "            needed_tickers.append(x)\n",
    "        check = False         #reset check\n",
    "    return needed_tickers\n",
    "\n",
    "#esg = common_tickers(esg_ticks, to_be_dropped)\n",
    "\n",
    "# Check that they are the same\n",
    "#print(len(esg_ticks)-len(to_be_dropped))  \n",
    "#len(esg)"
   ]
  },
  {
   "cell_type": "code",
   "execution_count": 74,
   "metadata": {},
   "outputs": [],
   "source": [
    "# To be used in the function above\n",
    "to_be_dropped = ['TWOU','JOBS','WUBA','ABBV','ACOR','AYI','ADPT','AAP','WMS','AGNC','AIMT','AL','ALRM','ACI','BABA','ALGN','ADS','ALLY','ALNY','GOOGL','ATUS','AMAG','AMCX','AAL','ACC','AWK','AMWL','APU','AMP','AFSI','APC','ANDV','ANDX','ANIP','AXE','AR','ANTM','APY','APO','WTR','ARMK','ANET','ARRY','AIZ','AAWW','AVLR','AGR','AVTR','AVYA','AVP','EQH','AXNX','BIDU','BHGE','BMS','BRK/A','BERY','BYND','BNTX','BEAT','BITA','BKI','BX','BLUE','BWP','BAH','BFAM','BHF','BRX','AVGO','BR','BF/B','BPL','BLDR','BNI','BURL','CA','CABO','CZR','CVGW','CRC','CLMT','CARB','CSII','CG','CARR','CRZO','CTLT','CBL','CBOE','CBRE','VIAC','CDK','CDW','CE','CELG','CNC','CTL','CF','CHTR','CHK','CHWY','CMG','XEC','CNK','CIT','CFG','CLE','CWEN/A','CLVS','CME','CIEIQ','CLNY','COMM','CYH','CMP','CXO','CEIX','CLR','COR','CSOD','CTVA','COTY','COUP','CVET','COWN','CMLP','CRTO','CRWD','TCOM','CUBE','CY','DAN','DDOG','DCP','DELL','DAL','DNR','DXCM','FANG','DKS','DLR','DFS','DISCA','DOCU','DG','DPZ','UFS','DOW','KDP','DBX','DNB','DT','ECHO','EW','EE','ELAN','OVV','EGN','ET','ENLK','ENPH','ENV','EPAM','EQIX','ETRN','ETFC','ETSY','AQUA','EXAS','EXPE',\n",
    " 'EXR','FB','FDML','FIS','FDC', 'FRC','FSLR','FLT','FNF','FCE/A','FOR','FTNT','FTV',\n",
    " 'FBHS','FOXA','FTR','GME','GIG','GTX','GNRC','GM','GP','GPN','TMK','GMED','GDDY','GOGO','GPRO','GTE','LOPE','GPRE','GWRE','GPOR','HBI','HASI','HCA','HCI','HDS','HTZ','HPE','HXN','HLT','HHC','HWM','HTHT','HUBS','SATS','HUN','HUYA','H','ILMN','IR','IPHI','PODD','IDTI','ICPT','ICE','ISRG','INVH','IPGP','IQV','IRWD','JBIC','JD','JBLU','LRN','KEYS','KMI','KKR','KN','KHC','LLL','HRS','LW','LPI','LVS','LAUR','LEA','LM','LDOS','LEVI','LBRDA','FWONA','LSXMA','LPT','LYV','LVGO','LKQ','LZ','LULU','LYFT','MHO','MIC','MMP','MPC','MKTX','MASI','MA','MAXR','MPW','MDCO','MLCO','MELI','MTOR','MACK','MET','MRNA','MOH','MDLZ','MDB','MPWR','MSCI','MWA','NDAQ','NFS','NAVI','NTES','NFLX','NVRO','EDU','NFX','NWSA','NEP','NBL','NWE','NRG','NUVA','NVE','OAS','OKTA','ON','OGS','OMF','ORA','KIDS','OTIS','OUT','OC','PPW','PCRX','PKG','PANW','PK','PKD','PE','PEGI','PAYC','PYPL','PTON','PRSP','PM','PSX','PDM','PNK','PINS','PAGP','ESI','POR','POST','PRAA','PCP','PRI','PFG','PFPT','PRO','PSEC','PRU','PTCT','PSD','PYX','QEP','QRVO','QLYS','QRTEA','QVCN','RAX','RLGY','RHT','RGA','REZI','RH','RNG','ROKU','SABR','SAGE','CRM','SBH','SC','SHLM','SGEN','NOW','SBNY',\n",
    " 'SLAB', 'WORK','SNAP','SEDG','SPR','SAVE','SRC','SPLK','S','SFM','SQ','SSNC','SPLS','SPWR','RUN','STI','SYNA','SYF','DATA','TAL','TPR','TRGP','AMTD','TDOC','TME','TDC','TERP','TSRO','TSLA','CC','MIK','TIF','TIVO','TMUS','TTD','TW','TDG','TRU','THS','TRCO','TRIP','TTMI','TFCFA','TWLO','TWTR','UBER','ULTA','RARE','UAA','UAL','VEEV','VNE','VER','VRNT',\n",
    "'VRSK','VIAB','VICI','VIPS','VIR','V','VST','VSI','VMW','VOYA','WBC','W','WEB','WB','WBT','WCG','WSTC','WU','WLK','RKT','WLL','WINMQ','NSM','WDAY','WPX','WYND','WH','WYNN','XPO','XYL','YUMC','YY','ZAYO','ZPIN','ZIGGO','ZG','ZBH','ZTS','ZM']"
   ]
  },
  {
   "cell_type": "code",
   "execution_count": null,
   "metadata": {},
   "outputs": [],
   "source": [
    "esg1 = ['MMM', 'ABT', 'ABMD', 'ACHC', 'ATVI', 'ADBE', 'AMD', 'AES', 'AMG', 'AFL', 'AGCO', 'A', 'APD', 'AKAM', 'ALK', 'ALB', 'AA', 'ARE', 'ALXN', 'Y', 'ATI', 'LNT', 'ALL', 'MO', 'AMZN', 'UHAL', 'AEE', 'AXL', 'AEP', 'AXP', 'AFG', 'AIG', 'AWR', 'AMT', 'ABC', 'AME', 'AMGN', 'AMKR', 'APH', 'ADI', 'NLY', 'ANSS', 'AOS', 'APA', 'AIV', 'AAPL', 'AMAT', 'ATR', 'ARW', 'AJG', 'ASH', 'AZPN', 'ASB', 'T', 'ATO', 'ADSK', 'ALV', 'ADP', 'AN', 'AZO', 'AVB', 'AVY', 'CAR', 'AVA', 'AVT', 'BMI', 'BLL', 'BAC', 'BAX', 'TFC', 'BDX', 'BBBY', 'BDC', 'BBY', 'BGCP', 'BIIB', 'BMRN', 'BIO', 'BKH', 'BLK', 'BA', 'BKNG', 'BWA', 'BXP', 'BSX', 'EPAY', 'BYD', 'BDN', 'EAT', 'BMY', 'BRO', 'CHRW', 'COG', 'CDNS', 'CAMP', 'CWT', 'CPT', 'CPB', 'COF', 'CAH', 'CSL', 'KMX', 'CAT', 'CNP', 'CERN', 'SCHW', 'LNG', 'CHH', 'CHD', 'CIEN', 'CI', 'CINF', 'CTAS', 'CSCO', 'C', 'CTXS', 'CLH', 'CLF', 'CLX', 'CMS', 'CNA', 'COKE']"
   ]
  },
  {
   "cell_type": "code",
   "execution_count": null,
   "metadata": {},
   "outputs": [],
   "source": [
    "esg2 = ['CGNX', 'CTSH', 'CL', 'COLM', 'CMCSA', 'CMA', 'CBSH', 'CMC', 'CRK', 'CAG', 'COP', 'ED', 'STZ', 'CPRT', 'CXW', 'GLW', 'OFC', 'CSGP', 'COST', 'CVA', 'CR', 'CCI', 'CCK', 'CSGS', 'CSX', 'CMI', 'CVS', 'DHI', 'DHR', 'DRI', 'DAR', 'DVA', 'DE', 'XRAY', 'DVN', 'DISH', 'DLTR', 'D', 'DCI', 'DOV', 'DTE', 'DUK', 'DRE', 'DXC', 'DY', 'EWBC', 'EMN', 'EBAY', 'ECL', 'EIX', 'EA', 'LLY', 'EMR', 'EHC', 'ECPG', 'ETR', 'EOG', 'EPR', 'EQT', 'EFX', 'EQC', 'ELS', 'EQR', 'ERIE', 'ESS', 'EL', 'EEFT', 'EVRG', 'ES', 'EXC', 'EXPD', 'EZPW', 'FFIV', 'FDS', 'FICO', 'FNMA', 'FAST', 'FRT', 'FDX', 'FITB', 'FHN', 'FE', 'FISV', 'FLIR', 'FLO', 'FLS', 'FMC', 'FL', 'F', 'FELE', 'BEN', 'FMCC', 'FULT', 'GPS', 'IT', 'GATX', 'GE', 'GIS', 'GNTX', 'GPC', 'GILD', 'GS', 'GT', 'GPK', 'GBX', 'HRB', 'HAIN', 'HAL', 'THG', 'HOG', 'HLIT', 'HIG', 'HAS', 'HA', 'PEAK', 'HEI', 'HP', 'HSIC', 'HES', 'HXL', 'HIW', 'HFC', 'HOLX', 'HD', 'HMN']"
   ]
  },
  {
   "cell_type": "code",
   "execution_count": null,
   "metadata": {},
   "outputs": [],
   "source": [
    "esg3 = ['HRL', 'HST', 'HPQ', 'HUBB', 'HUM', 'HBAN', 'IAC', 'IEP', 'IEX', 'IDXX', 'IIVI', 'ITW', 'IMGN', 'INCY', 'INGR', 'INO', 'INTC', 'IBM', 'IFF', 'IP', 'IPG', 'INTU', 'IVC', 'IONS', 'IRM', 'STAR', 'ITRI', 'JCOM', 'JBL', 'JKHY', 'JBHT', 'JEF', 'JNJ', 'JLL', 'JPM', 'JNPR', 'KAMN', 'KSU', 'KBH', 'K', 'KMPR', 'KMT', 'KEY', 'KRC', 'KMB', 'KIM', 'KLAC', 'KNX', 'KSS', 'KR', 'LB', 'LH', 'LRCX', 'LAMR', 'LEG', 'LEN', 'LII', 'LXP', 'LECO', 'LNC', 'L', 'LOW', 'MTB', 'CLI', 'M', 'MAN', 'MRO', 'MKL', 'MAR', 'MMC', 'MLM', 'MAS', 'MTZ', 'MTCH', 'MAT', 'MXIM', 'MKC', 'MCD', 'MCK', 'MDU', 'MD', 'MRK', 'MTH', 'MTD', 'MGM', 'MCHP', 'MU', 'MSFT', 'MAA', 'MIDD', 'MHK', 'TAP', 'MNST', 'MCO', 'MS', 'MSI', 'MSA', 'MUR', 'NFG', 'NOV', 'NNN', 'NAV', 'NKTR', 'NTAP', 'NBIX', 'NYCB', 'NWL', 'NEM', 'NR', 'NEE', 'NKE', 'NI', 'NDSN', 'JWN', 'NSC', 'NTRS', 'NLOK', 'NUS', 'NUAN', 'NUE', 'NVDA', 'NVR', 'ORLY', 'OXY', 'OII', 'OGE', 'ODFL', 'ORI', 'OHI', 'OMC', 'OKE', 'ORCL', 'OMI', 'OI', 'PCAR', 'PH', 'PAYX', 'PDCE', 'PBCT', 'PEP', 'PKI', 'PFE', 'PCG', 'PNW', 'PXD', 'PBI', 'PAA', 'PLUG', 'PNC', 'PII', 'PPG', 'PPL', 'PRA', 'PG', 'PLD', 'PTC', 'PEG', 'PSA', 'PHM', 'PVH', 'QCOM']"
   ]
  },
  {
   "cell_type": "code",
   "execution_count": null,
   "metadata": {},
   "outputs": [],
   "source": [
    "esg4 = ['PWR', 'DGX', 'QDEL', 'RRD', 'RL', 'RMBS', 'RRC', 'RJF', 'RTX', 'O', 'RWT', 'REG', 'REGN', 'RF', 'RS', 'RSG', 'RMD', 'RHI', 'ROK', 'ROL', 'ROP', 'ROST', 'RGLD', 'RPM', 'R', 'SPGI', 'SRPT', 'SBAC', 'SGMS', 'CKH', 'SEE', 'SEIC', 'SRE', 'SHW', 'SPG', 'SBGI', 'SIRI', 'SITC', 'SJW', 'SKX', 'SWKS', 'SLG', 'SLM', 'SM', 'SNA', 'SON', 'SO', 'LUV', 'SWX', 'SWN', 'SPB', 'SR', 'SWK', 'SBUX', 'STT', 'STLD', 'SCS', 'SRCL', 'SF', 'SYK', 'SUI', 'SIVB', 'SNPS', 'SYY', 'TROW', 'TTWO', 'SKT', 'TGT', 'TGNA', 'TDY', 'TFX', 'THC', 'TER', 'TTEK', 'TEVA', 'TXN', 'BK', 'KO', 'COO', 'HSY', 'SJM', 'MAC', 'MOS', 'PGR', 'TRV', 'DIS', 'TMO', 'TKR', 'TWI', 'TJX', 'TOL', 'TSCO', 'TRMB', 'TRN', 'TUP', 'TPC', 'TYL', 'TSN', 'UDR', 'UGI', 'UNP', 'UIS', 'UPS', 'URI', 'X', 'UTHR', 'UNH', 'OLED', 'UHS', 'UNM', 'USB', 'MTN', 'VLO', 'VMI', 'VAR', 'VGR', 'VTR', 'VEON', 'VRSN', 'VZ', 'VRTX', 'VFC', 'VIAV', 'VNO', 'VMC', 'WPC', 'WAB', 'WBA', 'WMT', 'WRE', 'WM', 'WAT', 'WTS', 'WEC', 'WRI', 'WELL', 'WST', 'WDC', 'WY', 'WHR', 'WMB', 'WRB', 'GRA', 'GWW', 'XEL', 'XRX', 'XLNX', 'YUM', 'ZBRA', 'ZION']"
   ]
  },
  {
   "cell_type": "code",
   "execution_count": null,
   "metadata": {},
   "outputs": [],
   "source": [
    "################# Screen the stocks divided in 4 groups to avoid problems with the number of API requests\n",
    "\n",
    "#screen1 = screen_stocks(esg1, ['RSI', 'SR_signal', 'MACD', 'ATR', 'UD_SP'], \"Signal\", 0.75)\n",
    "#screen2 = screen_stocks(esg2, ['RSI', 'SR_signal', 'MACD', 'ATR', 'UD_SP'], \"Signal\", 0.75)\n",
    "#screen3 = screen_stocks(esg3, ['RSI', 'SR_signal', 'MACD', 'ATR', 'UD_SP'], \"Signal\", 0.75)\n",
    "#screen4 = screen_stocks(esg4, ['RSI', 'SR_signal', 'MACD', 'ATR', 'UD_SP'], \"Signal\", 0.75)\n",
    "\n",
    "\n",
    "################## Store in excel, then I'll combine the excel file and import them back in to have quick access to the screened stocks.\n",
    "\n",
    "#screen1.to_excel(\"Screening1.xlsx\")\n",
    "#screen2.to_excel(\"Screening2.xlsx\")\n",
    "#screen3.to_excel(\"Screening3.xlsx\")\n",
    "#screen4.to_excel(\"Screening4.xlsx\")"
   ]
  },
  {
   "cell_type": "code",
   "execution_count": 6,
   "metadata": {},
   "outputs": [
    {
     "output_type": "execute_result",
     "data": {
      "text/plain": [
       "array(['TROW', 'ITW', 'PH', 'FLS', 'INTC', 'NDSN', 'EMN', 'PPG', 'CR',\n",
       "       'SEIC', 'L', 'MS', 'RPM', 'GS', 'LECO', 'ADI', 'FISV', 'BLK',\n",
       "       'CSCO', 'MXIM', 'DCI', 'ORCL', 'BEN', 'AMG', 'CAT', 'EMR', 'AME',\n",
       "       'JPM', 'RTX', 'AXP'], dtype=object)"
      ]
     },
     "metadata": {},
     "execution_count": 6
    }
   ],
   "source": [
    "# The data are already sorted from highest to lowest accuracy\n",
    "esg_screened = pd.read_excel(\"all_screened_ESG.xlsx\")\n",
    "# Top 25 based on avg accuracy between RF and XGB\n",
    "FINAL_ESG = esg_screened.head(30)\n",
    "FINAL_ESG[\"Ticker\"].values"
   ]
  },
  {
   "source": [
    "## ESG Rating\n",
    "Given that I wasn't able to find ESG rating data downloadable from a free stock API I used the MSCI esg searching tool to get ESG ratings and sector for the 30 selected companies.\n",
    "I divided the rating in 3 categories: \n",
    "- Good (AAA, AA)\n",
    "- Average (A, BBB, BB, B)\n",
    "- Bad (B, CCC)"
   ],
   "cell_type": "markdown",
   "metadata": {}
  },
  {
   "cell_type": "code",
   "execution_count": 7,
   "metadata": {},
   "outputs": [
    {
     "output_type": "stream",
     "name": "stderr",
     "text": [
      "/Users/AlessioGiust/opt/anaconda3/lib/python3.7/site-packages/ipykernel_launcher.py:4: SettingWithCopyWarning: \nA value is trying to be set on a copy of a slice from a DataFrame.\nTry using .loc[row_indexer,col_indexer] = value instead\n\nSee the caveats in the documentation: https://pandas.pydata.org/pandas-docs/stable/user_guide/indexing.html#returning-a-view-versus-a-copy\n  after removing the cwd from sys.path.\n/Users/AlessioGiust/opt/anaconda3/lib/python3.7/site-packages/ipykernel_launcher.py:7: SettingWithCopyWarning: \nA value is trying to be set on a copy of a slice from a DataFrame.\nTry using .loc[row_indexer,col_indexer] = value instead\n\nSee the caveats in the documentation: https://pandas.pydata.org/pandas-docs/stable/user_guide/indexing.html#returning-a-view-versus-a-copy\n  import sys\n"
     ]
    },
    {
     "output_type": "execute_result",
     "data": {
      "text/plain": [
       "        Avg Acc ESG_Rating\n",
       "Ticker                    \n",
       "TROW      0.731       Good\n",
       "ITW       0.728    Average\n",
       "PH        0.725    Average\n",
       "FLS       0.720    Average\n",
       "INTC      0.716    Average\n",
       "NDSN      0.715    Average\n",
       "EMN       0.714    Average\n",
       "PPG       0.714       Good\n",
       "CR        0.713        Bad\n",
       "SEIC      0.711        Bad\n",
       "L         0.711    Average\n",
       "MS        0.711       Good\n",
       "RPM       0.710    Average\n",
       "GS        0.710    Average\n",
       "LECO      0.709    Average\n",
       "ADI       0.708    Average\n",
       "FISV      0.706    Average\n",
       "BLK       0.705       Good\n",
       "CSCO      0.705       Good\n",
       "MXIM      0.704    Average\n",
       "DCI       0.703    Average\n",
       "ORCL      0.703    Average\n",
       "BEN       0.702    Average\n",
       "AMG       0.701    Average\n",
       "CAT       0.701    Average\n",
       "EMR       0.701    Average\n",
       "AME       0.699        Bad\n",
       "JPM       0.698    Average\n",
       "RTX       0.697    Average\n",
       "AXP       0.696       Good"
      ],
      "text/html": "<div>\n<style scoped>\n    .dataframe tbody tr th:only-of-type {\n        vertical-align: middle;\n    }\n\n    .dataframe tbody tr th {\n        vertical-align: top;\n    }\n\n    .dataframe thead th {\n        text-align: right;\n    }\n</style>\n<table border=\"1\" class=\"dataframe\">\n  <thead>\n    <tr style=\"text-align: right;\">\n      <th></th>\n      <th>Avg Acc</th>\n      <th>ESG_Rating</th>\n    </tr>\n    <tr>\n      <th>Ticker</th>\n      <th></th>\n      <th></th>\n    </tr>\n  </thead>\n  <tbody>\n    <tr>\n      <th>TROW</th>\n      <td>0.731</td>\n      <td>Good</td>\n    </tr>\n    <tr>\n      <th>ITW</th>\n      <td>0.728</td>\n      <td>Average</td>\n    </tr>\n    <tr>\n      <th>PH</th>\n      <td>0.725</td>\n      <td>Average</td>\n    </tr>\n    <tr>\n      <th>FLS</th>\n      <td>0.720</td>\n      <td>Average</td>\n    </tr>\n    <tr>\n      <th>INTC</th>\n      <td>0.716</td>\n      <td>Average</td>\n    </tr>\n    <tr>\n      <th>NDSN</th>\n      <td>0.715</td>\n      <td>Average</td>\n    </tr>\n    <tr>\n      <th>EMN</th>\n      <td>0.714</td>\n      <td>Average</td>\n    </tr>\n    <tr>\n      <th>PPG</th>\n      <td>0.714</td>\n      <td>Good</td>\n    </tr>\n    <tr>\n      <th>CR</th>\n      <td>0.713</td>\n      <td>Bad</td>\n    </tr>\n    <tr>\n      <th>SEIC</th>\n      <td>0.711</td>\n      <td>Bad</td>\n    </tr>\n    <tr>\n      <th>L</th>\n      <td>0.711</td>\n      <td>Average</td>\n    </tr>\n    <tr>\n      <th>MS</th>\n      <td>0.711</td>\n      <td>Good</td>\n    </tr>\n    <tr>\n      <th>RPM</th>\n      <td>0.710</td>\n      <td>Average</td>\n    </tr>\n    <tr>\n      <th>GS</th>\n      <td>0.710</td>\n      <td>Average</td>\n    </tr>\n    <tr>\n      <th>LECO</th>\n      <td>0.709</td>\n      <td>Average</td>\n    </tr>\n    <tr>\n      <th>ADI</th>\n      <td>0.708</td>\n      <td>Average</td>\n    </tr>\n    <tr>\n      <th>FISV</th>\n      <td>0.706</td>\n      <td>Average</td>\n    </tr>\n    <tr>\n      <th>BLK</th>\n      <td>0.705</td>\n      <td>Good</td>\n    </tr>\n    <tr>\n      <th>CSCO</th>\n      <td>0.705</td>\n      <td>Good</td>\n    </tr>\n    <tr>\n      <th>MXIM</th>\n      <td>0.704</td>\n      <td>Average</td>\n    </tr>\n    <tr>\n      <th>DCI</th>\n      <td>0.703</td>\n      <td>Average</td>\n    </tr>\n    <tr>\n      <th>ORCL</th>\n      <td>0.703</td>\n      <td>Average</td>\n    </tr>\n    <tr>\n      <th>BEN</th>\n      <td>0.702</td>\n      <td>Average</td>\n    </tr>\n    <tr>\n      <th>AMG</th>\n      <td>0.701</td>\n      <td>Average</td>\n    </tr>\n    <tr>\n      <th>CAT</th>\n      <td>0.701</td>\n      <td>Average</td>\n    </tr>\n    <tr>\n      <th>EMR</th>\n      <td>0.701</td>\n      <td>Average</td>\n    </tr>\n    <tr>\n      <th>AME</th>\n      <td>0.699</td>\n      <td>Bad</td>\n    </tr>\n    <tr>\n      <th>JPM</th>\n      <td>0.698</td>\n      <td>Average</td>\n    </tr>\n    <tr>\n      <th>RTX</th>\n      <td>0.697</td>\n      <td>Average</td>\n    </tr>\n    <tr>\n      <th>AXP</th>\n      <td>0.696</td>\n      <td>Good</td>\n    </tr>\n  </tbody>\n</table>\n</div>"
     },
     "metadata": {},
     "execution_count": 7
    }
   ],
   "source": [
    "rating = [\"Good\", \"Average\", \"Average\", \"Average\", \"Average\", \"Average\", \"Average\", \"Good\", \"Bad\", \"Bad\", \"Average\", \"Good\", \"Average\", \"Average\", \"Average\", \"Average\", \"Average\", \"Good\", \"Good\", \"Average\", \"Average\", \"Average\", \"Average\", \"Average\", \"Average\", \"Average\", \"Bad\", \"Average\", \"Average\", \"Good\"]\n",
    "#sector = [\"Financial\", \"Industrial\", \"Industrial\", \"Industrial\", \"Semiconductor\", \"Industrial\", \"Chemicals\", \"Chemicals\", \"Industrial\", \"Financial\", \"Insurance\", \"Financial\", \"Chemicals\", \"Financial\", \"Industrial\", \"Semiconductor\", \"Tech\", \"Financial\", \"Tech\", \"Semiconductor\", \"Industrial\", \"Tech\", \"Financial\", \"Financial\", \"Industrial\", \"Industrial\", \"Industrial\", \"Financial\", \"Industrial\", \"Financial\"]\n",
    "\n",
    "FINAL_ESG[\"ESG_Rating\"] = np.array(rating)\n",
    "#FINAL_ESG[\"Sector\"] = np.array(sector)\n",
    "\n",
    "FINAL_ESG[\"Avg Acc\"] = FINAL_ESG[\"Avg Acc\"].round(3)\n",
    "FINAL_ESG.set_index(\"Ticker\", inplace=True)\n",
    "FINAL_ESG"
   ]
  },
  {
   "cell_type": "code",
   "execution_count": 8,
   "metadata": {},
   "outputs": [],
   "source": [
    "#FINAL_ESG.to_excel(\"final_esg.xlsx\")"
   ]
  }
 ]
}