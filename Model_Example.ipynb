{
 "metadata": {
  "language_info": {
   "codemirror_mode": {
    "name": "ipython",
    "version": 3
   },
   "file_extension": ".py",
   "mimetype": "text/x-python",
   "name": "python",
   "nbconvert_exporter": "python",
   "pygments_lexer": "ipython3",
   "version": "3.7.4"
  },
  "orig_nbformat": 2,
  "kernelspec": {
   "name": "python374jvsc74a57bd0b967349b3912e102e8fe4a0a87077622317d4967e282400b4bea360c4dc3b23d",
   "display_name": "Python 3.7.4 64-bit ('base': conda)"
  }
 },
 "nbformat": 4,
 "nbformat_minor": 2,
 "cells": [
  {
   "source": [
    "## Example of the model application for the stock TROW"
   ],
   "cell_type": "markdown",
   "metadata": {}
  },
  {
   "cell_type": "code",
   "execution_count": 1,
   "metadata": {},
   "outputs": [
    {
     "output_type": "stream",
     "name": "stderr",
     "text": [
      "ipykernel_launcher:1: FutureWarning: pandas.util.testing is deprecated. Use the functions in the public API at pandas.testing instead.\n"
     ]
    }
   ],
   "source": [
    "import pandas.util.testing as tm\n",
    "from FunctionsINVCHA import *"
   ]
  },
  {
   "cell_type": "code",
   "execution_count": 2,
   "metadata": {},
   "outputs": [
    {
     "output_type": "execute_result",
     "data": {
      "text/plain": [
       "[0.7546450690805145, 3, 10]"
      ]
     },
     "metadata": {},
     "execution_count": 2
    }
   ],
   "source": [
    "#1) Create the dataframe\n",
    "df = create_data(\"TROW\")\n",
    "\n",
    "#2) Tune hyperparameters for XGB\n",
    "inputs = ['RSI', 'SR_signal', 'MACD', 'ATR', 'UD_SP', '10days_Vol']\n",
    "output = \"Signal\"\n",
    "\n",
    "tuned = tune_param_XGB([3,4,5,6,7,8,9,10], [1,2,3,4,5,6,7,8,9,10],                            data=df, inputs=inputs, output=output, pct_in=0.6)\n",
    "tuned"
   ]
  },
  {
   "cell_type": "code",
   "execution_count": 3,
   "metadata": {},
   "outputs": [
    {
     "output_type": "stream",
     "name": "stdout",
     "text": [
      "OOS Accuracy RF:  0.746\nOOS Accuracy XGB:  0.758\nOOS Accuracy LDA:  0.771\nOOS Accuracy QDA:  0.748\n"
     ]
    }
   ],
   "source": [
    "#3) Fit the models (in the real application the model is fitted with the entire dataset available at the time, using all_data=True in the models functions). \n",
    "# Only hyperparameters tuning (and the previous screening process) was performed after splitting in train and test data\n",
    "mod_rf, accrf = random_forest_model(df, inputs=inputs, output=output, pct_in=0.70, n_trees=100)[0:2] \n",
    "mod_xgb, accxgb = xgboost_model(df, inputs=inputs, output=output,pct_in=0.70, max_depth=tuned[1], min_child_weight=tuned[2])[0:2] \n",
    "mod_lda, acclda = LDA_class(df, inputs=inputs, output=output, pct_in=0.70)[0:2] \n",
    "mod_qda, accqda = QDA_class(df, inputs=inputs, output=output, pct_in=0.70)[0:2] \n",
    "\n",
    "print(\"OOS Accuracy RF: \", accrf.round(3))\n",
    "print(\"OOS Accuracy XGB: \", accxgb.round(3))\n",
    "print(\"OOS Accuracy LDA: \", acclda.round(3))\n",
    "print(\"OOS Accuracy QDA: \", accqda.round(3))"
   ]
  },
  {
   "cell_type": "code",
   "execution_count": 6,
   "metadata": {},
   "outputs": [],
   "source": [
    "# Get data for today and use to predict tomorrow direction\n",
    "data_to_predict = compute_data_toadd(\"TROW\")[1] \n",
    "X_to_predict = np.array(data_to_predict).reshape(1, -1)"
   ]
  },
  {
   "cell_type": "code",
   "execution_count": 8,
   "metadata": {},
   "outputs": [
    {
     "output_type": "stream",
     "name": "stdout",
     "text": [
      "Today inputs:  [[2.93790346e+01 6.04442557e+01 2.32647113e+00 3.97710872e+00\n  1.00000000e+00 5.28906516e-03]]\n-------------- Predictions for tomorrow given today 2021-04-13 data --------------\nRandom Forest:  UP\nXGBoost:        UP\nLDA:            UP\nQDA:            UP\n--------------------------------------------------------------------------------\n"
     ]
    }
   ],
   "source": [
    "final_output_rf = mod_rf.predict(X_to_predict)\n",
    "final_output_xg = mod_xgb.predict(X_to_predict)\n",
    "final_output_lda = mod_lda.predict(X_to_predict)\n",
    "final_output_qda = mod_qda.predict(X_to_predict)\n",
    "\n",
    "from datetime import date\n",
    "today = date.today()\n",
    "print(\"Today inputs: \", X_to_predict)\n",
    "print(f\"-------------- Predictions for tomorrow given today {today} data --------------\")\n",
    "print(\"Random Forest: \", \"UP\" if final_output_rf==1 else \"DOWN\")\n",
    "print(\"XGBoost:       \", \"UP\" if final_output_xg==1 else \"DOWN\")\n",
    "print(\"LDA:           \", \"UP\" if final_output_lda==1 else \"DOWN\")\n",
    "print(\"QDA:           \", \"UP\" if final_output_qda==1 else \"DOWN\")\n",
    "print(\"--------------------------------------------------------------------------------\")"
   ]
  },
  {
   "cell_type": "code",
   "execution_count": 35,
   "metadata": {},
   "outputs": [],
   "source": [
    "########## Example showing the process for each daily prediction ###########\n",
    "def example_data_toadd(ticker, start_date, date_today):  #date\n",
    "    data = web.DataReader(ticker, \"yahoo\", start=start_date, end=date_today)\n",
    "    data = data.dropna()\n",
    "    sp = web.DataReader(\"SPY\", \"yahoo\", start=start_date, end=date_today)\n",
    "    sp[\"Ret_SP\"] = sp[\"Adj Close\"].pct_change()\n",
    "    sp[\"UD_SP\"] = np.where((sp[\"Ret_SP\"] > 0), 1, 0)\n",
    "    sp[\"10days_Vol\"] = sp[\"Ret_SP\"].rolling(10).std()\n",
    "    sp = sp.dropna()\n",
    "\n",
    "    #RSI\n",
    "    data[\"RSI\"] = ta.momentum.rsi(close = data[\"Close\"], n=2)\n",
    "    #Stochastic Oscillator (I will use the signal as an input)\n",
    "    data[\"SR_signal\"] = ta.momentum.stoch_signal(close=data[\"Close\"], \n",
    "                                                high=data[\"High\"], low=data[\"Low\"], n=5)\n",
    "    #MACD (I will use the signal as an input, with default values for the two MA)\n",
    "    data[\"MACD\"] = ta.trend.macd_signal(close=data[\"Close\"])\n",
    "    #Average true range (ATR) for 5-days period\n",
    "    data[\"ATR\"] = ta.volatility.average_true_range(high=data[\"High\"], \n",
    "                                                low=data[\"Low\"], close=data[\"Close\"], n=5)\n",
    "        \n",
    "    data = data.merge(sp[[\"UD_SP\", \"10days_Vol\"]], on=\"Date\")\n",
    "\n",
    "    return data, data[[\"RSI\", \"SR_signal\", \"MACD\", \"ATR\", \"UD_SP\", \"10days_Vol\"]].loc[date_today]"
   ]
  },
  {
   "cell_type": "code",
   "execution_count": 36,
   "metadata": {},
   "outputs": [],
   "source": [
    "tick = \"TROW\"\n",
    "mod_forest = pickle.load(open(f\"modelsML/modelRF_{tick}.pkl\", \"rb\"))\n",
    "mod_xgb = pickle.load(open(f\"modelsML/modelXGB_{tick}.pkl\", \"rb\"))\n",
    "mod_lda = pickle.load(open(f\"modelsML/modelLDA_{tick}.pkl\", \"rb\"))\n",
    "mod_qda = pickle.load(open(f\"modelsML/modelQDA_{tick}.pkl\", \"rb\"))"
   ]
  },
  {
   "cell_type": "code",
   "execution_count": 38,
   "metadata": {},
   "outputs": [
    {
     "output_type": "stream",
     "name": "stdout",
     "text": [
      "-------------- Predictions with 2021-03-15 00:00:00 data --------------\n",
      "INPUTS:  [[2.70319871e+01 4.44170868e+01 3.51224994e+00 4.90828593e+00\n",
      "  1.00000000e+00 1.10718316e-02]]\n",
      "Random Forest:  UP\n",
      "XGBoost:        UP\n",
      "LDA:            UP\n",
      "QDA:            UP\n",
      "---------------------------------------------------------------------\n",
      "-------------- Predictions with 2021-03-16 00:00:00 data --------------\n",
      "INPUTS:  [[8.98463167e+00 3.09372303e+01 3.55571955e+00 4.54662691e+00\n",
      "  0.00000000e+00 1.06260182e-02]]\n",
      "Random Forest:  DOWN\n",
      "XGBoost:        DOWN\n",
      "LDA:            DOWN\n",
      "QDA:            DOWN\n",
      "---------------------------------------------------------------------\n",
      "-------------- Predictions with 2021-03-17 00:00:00 data --------------\n",
      "INPUTS:  [[7.46447526e+01 4.12490647e+01 3.58832750e+00 4.39129933e+00\n",
      "  1.00000000e+00 9.08646897e-03]]\n",
      "Random Forest:  DOWN\n",
      "XGBoost:        UP\n",
      "LDA:            UP\n",
      "QDA:            UP\n",
      "---------------------------------------------------------------------\n",
      "-------------- Predictions with 2021-03-18 00:00:00 data --------------\n",
      "INPUTS:  [[2.86402643e+01 3.95517614e+01 3.55876950e+00 4.43703849e+00\n",
      "  0.00000000e+00 9.53971854e-03]]\n",
      "Random Forest:  DOWN\n",
      "XGBoost:        DOWN\n",
      "LDA:            DOWN\n",
      "QDA:            DOWN\n",
      "---------------------------------------------------------------------\n",
      "-------------- Predictions with 2021-03-19 00:00:00 data --------------\n",
      "INPUTS:  [[2.83947849e+01 4.05037920e+01 3.48336649e+00 4.11963201e+00\n",
      "  0.00000000e+00 8.17073562e-03]]\n",
      "Random Forest:  DOWN\n",
      "XGBoost:        DOWN\n",
      "LDA:            DOWN\n",
      "QDA:            DOWN\n",
      "---------------------------------------------------------------------\n",
      "no date\n",
      "no date\n",
      "-------------- Predictions with 2021-03-22 00:00:00 data --------------\n",
      "INPUTS:  [[4.70218695e+01 2.99869082e+01 3.38178331e+00 3.72570439e+00\n",
      "  1.00000000e+00 7.98939362e-03]]\n",
      "Random Forest:  UP\n",
      "XGBoost:        UP\n",
      "LDA:            UP\n",
      "QDA:            UP\n",
      "---------------------------------------------------------------------\n",
      "-------------- Predictions with 2021-03-23 00:00:00 data --------------\n",
      "INPUTS:  [[8.21967351e+00 2.17249804e+01 3.20205784e+00 3.81256119e+00\n",
      "  0.00000000e+00 7.62944378e-03]]\n",
      "Random Forest:  DOWN\n",
      "XGBoost:        DOWN\n",
      "LDA:            DOWN\n",
      "QDA:            DOWN\n",
      "---------------------------------------------------------------------\n",
      "-------------- Predictions with 2021-03-24 00:00:00 data --------------\n",
      "INPUTS:  [[4.85901553e+01 2.11223202e+01 3.00371705e+00 3.67804883e+00\n",
      "  0.00000000e+00 7.59936105e-03]]\n",
      "Random Forest:  DOWN\n",
      "XGBoost:        DOWN\n",
      "LDA:            DOWN\n",
      "QDA:            DOWN\n",
      "---------------------------------------------------------------------\n",
      "-------------- Predictions with 2021-03-25 00:00:00 data --------------\n",
      "INPUTS:  [[7.25777935e+01 3.58141743e+01 2.82533974e+00 3.90443858e+00\n",
      "  1.00000000e+00 7.03137288e-03]]\n",
      "Random Forest:  DOWN\n",
      "XGBoost:        UP\n",
      "LDA:            UP\n",
      "QDA:            UP\n",
      "---------------------------------------------------------------------\n",
      "-------------- Predictions with 2021-03-26 00:00:00 data --------------\n",
      "INPUTS:  [[9.34912539e+01 6.67287292e+01 2.75907018e+00 4.36955001e+00\n",
      "  1.00000000e+00 8.81660618e-03]]\n",
      "Random Forest:  DOWN\n",
      "XGBoost:        UP\n",
      "LDA:            UP\n",
      "QDA:            UP\n",
      "---------------------------------------------------------------------\n",
      "no date\n",
      "no date\n",
      "-------------- Predictions with 2021-03-29 00:00:00 data --------------\n",
      "INPUTS:  [[7.23632499e+01 8.63912377e+01 2.74174590e+00 4.12963964e+00\n",
      "  0.00000000e+00 8.63503456e-03]]\n",
      "Random Forest:  DOWN\n",
      "XGBoost:        DOWN\n",
      "LDA:            DOWN\n",
      "QDA:            DOWN\n",
      "---------------------------------------------------------------------\n",
      "-------------- Predictions with 2021-03-30 00:00:00 data --------------\n",
      "INPUTS:  [[2.53837832e+01 7.57750206e+01 2.67397526e+00 4.37371293e+00\n",
      "  0.00000000e+00 8.67236121e-03]]\n",
      "Random Forest:  DOWN\n",
      "XGBoost:        DOWN\n",
      "LDA:            DOWN\n",
      "QDA:            DOWN\n",
      "---------------------------------------------------------------------\n",
      "-------------- Predictions with 2021-03-31 00:00:00 data --------------\n",
      "INPUTS:  [[2.17052154e+01 5.49057530e+01 2.56215228e+00 4.12896912e+00\n",
      "  1.00000000e+00 8.70229295e-03]]\n",
      "Random Forest:  UP\n",
      "XGBoost:        UP\n",
      "LDA:            UP\n",
      "QDA:            UP\n",
      "---------------------------------------------------------------------\n",
      "-------------- Predictions with 2021-04-01 00:00:00 data --------------\n",
      "INPUTS:  [[6.27744850e+01 3.88948924e+01 2.46039287e+00 3.83317408e+00\n",
      "  1.00000000e+00 7.57054862e-03]]\n",
      "Random Forest:  DOWN\n",
      "XGBoost:        UP\n",
      "LDA:            UP\n",
      "QDA:            UP\n",
      "---------------------------------------------------------------------\n",
      "no date\n",
      "no date\n",
      "no date\n",
      "-------------- Predictions with 2021-04-05 00:00:00 data --------------\n",
      "INPUTS:  [[8.25158914e+01 5.03849775e+01 2.40519187e+00 3.70053890e+00\n",
      "  1.00000000e+00 8.20501507e-03]]\n",
      "Random Forest:  DOWN\n",
      "XGBoost:        UP\n",
      "LDA:            UP\n",
      "QDA:            UP\n",
      "---------------------------------------------------------------------\n",
      "-------------- Predictions with 2021-04-06 00:00:00 data --------------\n",
      "INPUTS:  [[8.29432233e+01 6.88183447e+01 2.37754182e+00 3.30643026e+00\n",
      "  0.00000000e+00 8.22309978e-03]]\n",
      "Random Forest:  DOWN\n",
      "XGBoost:        DOWN\n",
      "LDA:            DOWN\n",
      "QDA:            DOWN\n",
      "---------------------------------------------------------------------\n",
      "-------------- Predictions with 2021-04-07 00:00:00 data --------------\n",
      "INPUTS:  [[8.70561119e+01 8.42545712e+01 2.36941294e+00 3.02914384e+00\n",
      "  1.00000000e+00 7.28761120e-03]]\n",
      "Random Forest:  DOWN\n",
      "XGBoost:        UP\n",
      "LDA:            UP\n",
      "QDA:            UP\n",
      "---------------------------------------------------------------------\n",
      "-------------- Predictions with 2021-04-08 00:00:00 data --------------\n",
      "INPUTS:  [[5.29854970e+01 8.32212365e+01 2.36024896e+00 2.79131434e+00\n",
      "  1.00000000e+00 6.49732398e-03]]\n",
      "Random Forest:  UP\n",
      "XGBoost:        UP\n",
      "LDA:            UP\n",
      "QDA:            UP\n",
      "---------------------------------------------------------------------\n",
      "-------------- Predictions with 2021-04-09 00:00:00 data --------------\n",
      "INPUTS:  [[9.16805984e+01 7.80243682e+01 2.39483642e+00 3.21505221e+00\n",
      "  1.00000000e+00 6.52694087e-03]]\n",
      "Random Forest:  DOWN\n",
      "XGBoost:        DOWN\n",
      "LDA:            UP\n",
      "QDA:            UP\n",
      "---------------------------------------------------------------------\n",
      "no date\n",
      "no date\n",
      "-------------- Predictions with 2021-04-12 00:00:00 data --------------\n",
      "INPUTS:  [[9.67781243e+01 8.04471736e+01 2.49695963e+00 3.40604140e+00\n",
      "  1.00000000e+00 5.49238294e-03]]\n",
      "Random Forest:  DOWN\n",
      "XGBoost:        UP\n",
      "LDA:            UP\n",
      "QDA:            UP\n",
      "---------------------------------------------------------------------\n",
      "-------------- Predictions with 2021-04-13 00:00:00 data --------------\n",
      "INPUTS:  [[2.93790346e+01 6.04442557e+01 2.54166163e+00 3.97683507e+00\n",
      "  1.00000000e+00 5.28906516e-03]]\n",
      "Random Forest:  UP\n",
      "XGBoost:        UP\n",
      "LDA:            UP\n",
      "QDA:            UP\n",
      "---------------------------------------------------------------------\n"
     ]
    }
   ],
   "source": [
    "dates_list = pd.date_range(start=\"2021-03-15\", end=\"2021-04-13\")\n",
    "\n",
    "for date in dates_list:\n",
    "    try:\n",
    "        data_to_predict = example_data_toadd(\"TROW\", start_date=\"2020-11-01\", date_today=date)[1] \n",
    "        X_to_predict = np.array(data_to_predict).reshape(1, -1)\n",
    "        final_output_rf = mod_rf.predict(X_to_predict)\n",
    "        final_output_xg = mod_xgb.predict(X_to_predict)\n",
    "        final_output_lda = mod_lda.predict(X_to_predict)\n",
    "        final_output_qda = mod_qda.predict(X_to_predict)\n",
    "        print(f\"-------------- Predictions with {date} data --------------\")\n",
    "        # it means that we are using data for this date to predict for tomorrow\n",
    "        print(\"INPUTS: \", X_to_predict)\n",
    "        print(\"Random Forest: \", \"UP\" if final_output_rf==1 else \"DOWN\")\n",
    "        print(\"XGBoost:       \", \"UP\" if final_output_xg==1 else \"DOWN\")\n",
    "        print(\"LDA:           \", \"UP\" if final_output_lda==1 else \"DOWN\")\n",
    "        print(\"QDA:           \", \"UP\" if final_output_qda==1 else \"DOWN\")\n",
    "        print(\"---------------------------------------------------------------------\")\n",
    "    except KeyError:\n",
    "        print(\"no date\")"
   ]
  }
 ]
}